{
 "cells": [
  {
   "cell_type": "code",
   "execution_count": 1,
   "metadata": {},
   "outputs": [],
   "source": [
    "%matplotlib inline\n",
    "from matplotlib import style\n",
    "style.use('fivethirtyeight')\n",
    "import matplotlib.pyplot as plt"
   ]
  },
  {
   "cell_type": "code",
   "execution_count": 2,
   "metadata": {},
   "outputs": [],
   "source": [
    "import numpy as np\n",
    "import pandas as pd\n",
    "import datetime as dt"
   ]
  },
  {
   "cell_type": "markdown",
   "metadata": {},
   "source": [
    "# Reflect Tables into SQLAlchemy ORM"
   ]
  },
  {
   "cell_type": "code",
   "execution_count": 3,
   "metadata": {},
   "outputs": [],
   "source": [
    "# Python SQL toolkit and Object Relational Mapper\n",
    "import sqlalchemy\n",
    "from sqlalchemy.ext.automap import automap_base\n",
    "from sqlalchemy.orm import Session\n",
    "from sqlalchemy import create_engine, func, inspect\n",
    "\n",
    "import flask\n",
    "from flask import Flask, jsonify"
   ]
  },
  {
   "cell_type": "code",
   "execution_count": 4,
   "metadata": {},
   "outputs": [],
   "source": [
    "# create engine to hawaii.sqlite\n",
    "engine = create_engine(\"sqlite:///hawaii.sqlite\")"
   ]
  },
  {
   "cell_type": "code",
   "execution_count": 5,
   "metadata": {},
   "outputs": [],
   "source": [
    "# reflect an existing database into a new model\n",
    "Base = automap_base()\n",
    "\n",
    "# reflect the tables\n",
    "Base.prepare(engine, reflect=True)"
   ]
  },
  {
   "cell_type": "code",
   "execution_count": 6,
   "metadata": {},
   "outputs": [
    {
     "data": {
      "text/plain": [
       "['measurement', 'station']"
      ]
     },
     "execution_count": 6,
     "metadata": {},
     "output_type": "execute_result"
    }
   ],
   "source": [
    "# View all of the classes that automap found\n",
    "Base.classes.keys()"
   ]
  },
  {
   "cell_type": "code",
   "execution_count": 7,
   "metadata": {},
   "outputs": [],
   "source": [
    "# Save references to each table\n",
    "measurement = Base.classes.measurement\n",
    "station = Base.classes.station"
   ]
  },
  {
   "cell_type": "code",
   "execution_count": 8,
   "metadata": {},
   "outputs": [],
   "source": [
    "# Create our session (link) from Python to the DB\n",
    "session = Session(engine)"
   ]
  },
  {
   "cell_type": "markdown",
   "metadata": {},
   "source": [
    "# Exploratory Precipitation Analysis"
   ]
  },
  {
   "cell_type": "code",
   "execution_count": 9,
   "metadata": {},
   "outputs": [
    {
     "name": "stdout",
     "output_type": "stream",
     "text": [
      "id INTEGER\n",
      "station TEXT\n",
      "date TEXT\n",
      "prcp FLOAT\n",
      "tobs FLOAT\n"
     ]
    }
   ],
   "source": [
    "#measurement columns\n",
    "inspector = inspect(engine)\n",
    "\n",
    "columns = inspector.get_columns('measurement')\n",
    "for column in columns:\n",
    "    print(column[\"name\"], column[\"type\"])"
   ]
  },
  {
   "cell_type": "code",
   "execution_count": 10,
   "metadata": {},
   "outputs": [
    {
     "name": "stdout",
     "output_type": "stream",
     "text": [
      "id INTEGER\n",
      "station TEXT\n",
      "name TEXT\n",
      "latitude FLOAT\n",
      "longitude FLOAT\n",
      "elevation FLOAT\n"
     ]
    }
   ],
   "source": [
    "#station columns\n",
    "inspector = inspect(engine)\n",
    "\n",
    "columns = inspector.get_columns('station')\n",
    "for column in columns:\n",
    "    print(column[\"name\"], column[\"type\"])"
   ]
  },
  {
   "cell_type": "code",
   "execution_count": 11,
   "metadata": {},
   "outputs": [
    {
     "data": {
      "text/plain": [
       "[(1, 'USC00519397', '2010-01-01', 0.08, 65.0),\n",
       " (2, 'USC00519397', '2010-01-02', 0.0, 63.0),\n",
       " (3, 'USC00519397', '2010-01-03', 0.0, 74.0),\n",
       " (4, 'USC00519397', '2010-01-04', 0.0, 76.0),\n",
       " (5, 'USC00519397', '2010-01-06', None, 73.0)]"
      ]
     },
     "execution_count": 11,
     "metadata": {},
     "output_type": "execute_result"
    }
   ],
   "source": [
    "#Measurement table\n",
    "engine.execute('SELECT * From measurement LIMIT 5').fetchall()"
   ]
  },
  {
   "cell_type": "code",
   "execution_count": 12,
   "metadata": {},
   "outputs": [
    {
     "data": {
      "text/plain": [
       "[(1, 'USC00519397', 'WAIKIKI 717.2, HI US', 21.2716, -157.8168, 3.0),\n",
       " (2, 'USC00513117', 'KANEOHE 838.1, HI US', 21.4234, -157.8015, 14.6),\n",
       " (3, 'USC00514830', 'KUALOA RANCH HEADQUARTERS 886.9, HI US', 21.5213, -157.8374, 7.0),\n",
       " (4, 'USC00517948', 'PEARL CITY, HI US', 21.3934, -157.9751, 11.9),\n",
       " (5, 'USC00518838', 'UPPER WAHIAWA 874.3, HI US', 21.4992, -158.0111, 306.6)]"
      ]
     },
     "execution_count": 12,
     "metadata": {},
     "output_type": "execute_result"
    }
   ],
   "source": [
    "#Station table\n",
    "engine.execute('SELECT * From station LIMIT 5').fetchall()"
   ]
  },
  {
   "cell_type": "code",
   "execution_count": 13,
   "metadata": {},
   "outputs": [
    {
     "data": {
      "text/plain": [
       "('2010-01-01',)"
      ]
     },
     "execution_count": 13,
     "metadata": {},
     "output_type": "execute_result"
    }
   ],
   "source": [
    "# Find the most recent date in the data set.\n",
    "session.query(measurement.date).order_by(measurement.date).first()"
   ]
  },
  {
   "cell_type": "code",
   "execution_count": 14,
   "metadata": {},
   "outputs": [
    {
     "data": {
      "text/html": [
       "<div>\n",
       "<style scoped>\n",
       "    .dataframe tbody tr th:only-of-type {\n",
       "        vertical-align: middle;\n",
       "    }\n",
       "\n",
       "    .dataframe tbody tr th {\n",
       "        vertical-align: top;\n",
       "    }\n",
       "\n",
       "    .dataframe thead th {\n",
       "        text-align: right;\n",
       "    }\n",
       "</style>\n",
       "<table border=\"1\" class=\"dataframe\">\n",
       "  <thead>\n",
       "    <tr style=\"text-align: right;\">\n",
       "      <th></th>\n",
       "      <th>Precipitation</th>\n",
       "    </tr>\n",
       "    <tr>\n",
       "      <th>Date</th>\n",
       "      <th></th>\n",
       "    </tr>\n",
       "  </thead>\n",
       "  <tbody>\n",
       "    <tr>\n",
       "      <th>2016-08-23</th>\n",
       "      <td>0.00</td>\n",
       "    </tr>\n",
       "    <tr>\n",
       "      <th>2016-08-23</th>\n",
       "      <td>0.15</td>\n",
       "    </tr>\n",
       "    <tr>\n",
       "      <th>2016-08-23</th>\n",
       "      <td>0.05</td>\n",
       "    </tr>\n",
       "    <tr>\n",
       "      <th>2016-08-23</th>\n",
       "      <td>NaN</td>\n",
       "    </tr>\n",
       "    <tr>\n",
       "      <th>2016-08-23</th>\n",
       "      <td>0.02</td>\n",
       "    </tr>\n",
       "    <tr>\n",
       "      <th>...</th>\n",
       "      <td>...</td>\n",
       "    </tr>\n",
       "    <tr>\n",
       "      <th>2017-08-22</th>\n",
       "      <td>0.50</td>\n",
       "    </tr>\n",
       "    <tr>\n",
       "      <th>2017-08-23</th>\n",
       "      <td>0.08</td>\n",
       "    </tr>\n",
       "    <tr>\n",
       "      <th>2017-08-23</th>\n",
       "      <td>0.00</td>\n",
       "    </tr>\n",
       "    <tr>\n",
       "      <th>2017-08-23</th>\n",
       "      <td>0.00</td>\n",
       "    </tr>\n",
       "    <tr>\n",
       "      <th>2017-08-23</th>\n",
       "      <td>0.45</td>\n",
       "    </tr>\n",
       "  </tbody>\n",
       "</table>\n",
       "<p>2230 rows × 1 columns</p>\n",
       "</div>"
      ],
      "text/plain": [
       "            Precipitation\n",
       "Date                     \n",
       "2016-08-23           0.00\n",
       "2016-08-23           0.15\n",
       "2016-08-23           0.05\n",
       "2016-08-23            NaN\n",
       "2016-08-23           0.02\n",
       "...                   ...\n",
       "2017-08-22           0.50\n",
       "2017-08-23           0.08\n",
       "2017-08-23           0.00\n",
       "2017-08-23           0.00\n",
       "2017-08-23           0.45\n",
       "\n",
       "[2230 rows x 1 columns]"
      ]
     },
     "execution_count": 14,
     "metadata": {},
     "output_type": "execute_result"
    }
   ],
   "source": [
    "# Design a query to retrieve the last 12 months of precipitation data and plot the results. \n",
    "# Starting from the most recent data point in the database. \n",
    "start_date = session.query(measurement.date).order_by(measurement.date.desc()).first().date\n",
    "start_date\n",
    "# Calculate the date one year from the last date in data set.\n",
    "\n",
    "end_date = dt.date(2017, 8, 23) - dt.timedelta(days=365)\n",
    "\n",
    "# Perform a query to retrieve the data and precipitation scores\n",
    "session.query(measurement.date, measurement.prcp).\\\n",
    "    order_by(measurement.date.desc()).all()\n",
    "\n",
    "# Save the query results as a Pandas DataFrame and set the index to the date column\n",
    "precipitation_info = session.query(measurement.date, measurement.prcp).\\\n",
    "    filter(measurement.date >= end_date).\\\n",
    "    order_by(measurement.date.asc()).all()\n",
    "\n",
    "# Sort the dataframe by date\n",
    "precipitation_df = pd.DataFrame(precipitation_info, columns=['Date', 'Precipitation'])\n",
    "precipitation_df.set_index('Date', inplace=True, )\n",
    "prcp_date = precipitation_df.sort_values(by='Date', ascending=True)\n",
    "prcp_date\n"
   ]
  },
  {
   "cell_type": "code",
   "execution_count": 16,
   "metadata": {},
   "outputs": [
    {
     "data": {
      "text/plain": [
       "datetime.date(2016, 8, 23)"
      ]
     },
     "execution_count": 16,
     "metadata": {},
     "output_type": "execute_result"
    }
   ],
   "source": [
    "start_date = session.query(measurement.date).order_by(measurement.date.desc()).first().date\n",
    "start_date\n",
    "end_date"
   ]
  },
  {
   "cell_type": "code",
   "execution_count": 17,
   "metadata": {},
   "outputs": [
    {
     "data": {
      "text/plain": [
       "<Figure size 432x288 with 0 Axes>"
      ]
     },
     "metadata": {},
     "output_type": "display_data"
    },
    {
     "data": {
      "image/png": "[encoded data removed]",
      "text/plain": [
       "<Figure size 720x504 with 1 Axes>"
      ]
     },
     "metadata": {},
     "output_type": "display_data"
    }
   ],
   "source": [
    "# Use Pandas Plotting with Matplotlib to plot the data\n",
    "fig=plt.figure()\n",
    "ax=fig.add_subplot\n",
    "\n",
    "ax = prcp_date.plot(title= \"Precipitation by Date\", grid = True, figsize =(10,7), rot=75)\n",
    "plt.tight_layout()\n",
    "ax.set(xlabel=\"Date\", ylabel=\"Inches\")\n",
    "plt.show()\n"
   ]
  },
  {
   "cell_type": "code",
   "execution_count": 18,
   "metadata": {},
   "outputs": [
    {
     "data": {
      "text/html": [
       "<div>\n",
       "<style scoped>\n",
       "    .dataframe tbody tr th:only-of-type {\n",
       "        vertical-align: middle;\n",
       "    }\n",
       "\n",
       "    .dataframe tbody tr th {\n",
       "        vertical-align: top;\n",
       "    }\n",
       "\n",
       "    .dataframe thead th {\n",
       "        text-align: right;\n",
       "    }\n",
       "</style>\n",
       "<table border=\"1\" class=\"dataframe\">\n",
       "  <thead>\n",
       "    <tr style=\"text-align: right;\">\n",
       "      <th></th>\n",
       "      <th>Precipitation</th>\n",
       "    </tr>\n",
       "  </thead>\n",
       "  <tbody>\n",
       "    <tr>\n",
       "      <th>count</th>\n",
       "      <td>2021.000000</td>\n",
       "    </tr>\n",
       "    <tr>\n",
       "      <th>mean</th>\n",
       "      <td>0.177279</td>\n",
       "    </tr>\n",
       "    <tr>\n",
       "      <th>std</th>\n",
       "      <td>0.461190</td>\n",
       "    </tr>\n",
       "    <tr>\n",
       "      <th>min</th>\n",
       "      <td>0.000000</td>\n",
       "    </tr>\n",
       "    <tr>\n",
       "      <th>25%</th>\n",
       "      <td>0.000000</td>\n",
       "    </tr>\n",
       "    <tr>\n",
       "      <th>50%</th>\n",
       "      <td>0.020000</td>\n",
       "    </tr>\n",
       "    <tr>\n",
       "      <th>75%</th>\n",
       "      <td>0.130000</td>\n",
       "    </tr>\n",
       "    <tr>\n",
       "      <th>max</th>\n",
       "      <td>6.700000</td>\n",
       "    </tr>\n",
       "  </tbody>\n",
       "</table>\n",
       "</div>"
      ],
      "text/plain": [
       "       Precipitation\n",
       "count    2021.000000\n",
       "mean        0.177279\n",
       "std         0.461190\n",
       "min         0.000000\n",
       "25%         0.000000\n",
       "50%         0.020000\n",
       "75%         0.130000\n",
       "max         6.700000"
      ]
     },
     "execution_count": 18,
     "metadata": {},
     "output_type": "execute_result"
    }
   ],
   "source": [
    "# Use Pandas to calcualte the summary statistics for the precipitation data\n",
    "prcp_date.describe()"
   ]
  },
  {
   "cell_type": "markdown",
   "metadata": {},
   "source": [
    "# Exploratory Station Analysis"
   ]
  },
  {
   "cell_type": "code",
   "execution_count": 19,
   "metadata": {},
   "outputs": [
    {
     "data": {
      "text/plain": [
       "9"
      ]
     },
     "execution_count": 19,
     "metadata": {},
     "output_type": "execute_result"
    }
   ],
   "source": [
    "# Design a query to calculate the total number stations in the dataset\n",
    "session.query(station.station).count()"
   ]
  },
  {
   "cell_type": "code",
   "execution_count": 43,
   "metadata": {},
   "outputs": [
    {
     "data": {
      "text/plain": [
       "[('USC00519281', 2772),\n",
       " ('USC00519397', 2724),\n",
       " ('USC00513117', 2709),\n",
       " ('USC00519523', 2669),\n",
       " ('USC00516128', 2612),\n",
       " ('USC00514830', 2202),\n",
       " ('USC00511918', 1979),\n",
       " ('USC00517948', 1372),\n",
       " ('USC00518838', 511)]"
      ]
     },
     "execution_count": 43,
     "metadata": {},
     "output_type": "execute_result"
    }
   ],
   "source": [
    "# Design a query to find the most active stations (i.e. what stations have the most rows?)\n",
    "# List the stations and the counts in descending order.\n",
    "stations = session.query(measurement.station, func.count(measurement.station)).\\\n",
    "    group_by(measurement.station).\\\n",
    "    order_by(func.count(measurement.station).desc()).all()\n",
    "\n",
    "stations"
   ]
  },
  {
   "cell_type": "code",
   "execution_count": 42,
   "metadata": {},
   "outputs": [
    {
     "name": "stdout",
     "output_type": "stream",
     "text": [
      "[{'station': 'USC00519281', 'date': '2016-08-23', 'tobs': 77.0}, {'station': 'USC00519281', 'date': '2016-08-24', 'tobs': 77.0}, {'station': 'USC00519281', 'date': '2016-08-25', 'tobs': 80.0}, {'station': 'USC00519281', 'date': '2016-08-26', 'tobs': 80.0}, {'station': 'USC00519281', 'date': '2016-08-27', 'tobs': 75.0}, {'station': 'USC00519281', 'date': '2016-08-28', 'tobs': 73.0}, {'station': 'USC00519281', 'date': '2016-08-29', 'tobs': 78.0}, {'station': 'USC00519281', 'date': '2016-08-30', 'tobs': 77.0}, {'station': 'USC00519281', 'date': '2016-08-31', 'tobs': 78.0}, {'station': 'USC00519281', 'date': '2016-09-01', 'tobs': 80.0}, {'station': 'USC00519281', 'date': '2016-09-02', 'tobs': 80.0}, {'station': 'USC00519281', 'date': '2016-09-03', 'tobs': 78.0}, {'station': 'USC00519281', 'date': '2016-09-04', 'tobs': 78.0}, {'station': 'USC00519281', 'date': '2016-09-05', 'tobs': 78.0}, {'station': 'USC00519281', 'date': '2016-09-06', 'tobs': 73.0}, {'station': 'USC00519281', 'date': '2016-09-07', 'tobs': 74.0}, {'station': 'USC00519281', 'date': '2016-09-08', 'tobs': 80.0}, {'station': 'USC00519281', 'date': '2016-09-09', 'tobs': 79.0}, {'station': 'USC00519281', 'date': '2016-09-10', 'tobs': 77.0}, {'station': 'USC00519281', 'date': '2016-09-11', 'tobs': 80.0}, {'station': 'USC00519281', 'date': '2016-09-12', 'tobs': 76.0}, {'station': 'USC00519281', 'date': '2016-09-13', 'tobs': 79.0}, {'station': 'USC00519281', 'date': '2016-09-14', 'tobs': 75.0}, {'station': 'USC00519281', 'date': '2016-09-15', 'tobs': 79.0}, {'station': 'USC00519281', 'date': '2016-09-16', 'tobs': 78.0}, {'station': 'USC00519281', 'date': '2016-09-17', 'tobs': 79.0}, {'station': 'USC00519281', 'date': '2016-09-18', 'tobs': 78.0}, {'station': 'USC00519281', 'date': '2016-09-19', 'tobs': 78.0}, {'station': 'USC00519281', 'date': '2016-09-20', 'tobs': 76.0}, {'station': 'USC00519281', 'date': '2016-09-21', 'tobs': 74.0}, {'station': 'USC00519281', 'date': '2016-09-22', 'tobs': 77.0}, {'station': 'USC00519281', 'date': '2016-09-23', 'tobs': 78.0}, {'station': 'USC00519281', 'date': '2016-09-24', 'tobs': 79.0}, {'station': 'USC00519281', 'date': '2016-09-25', 'tobs': 79.0}, {'station': 'USC00519281', 'date': '2016-09-26', 'tobs': 77.0}, {'station': 'USC00519281', 'date': '2016-09-27', 'tobs': 80.0}, {'station': 'USC00519281', 'date': '2016-09-28', 'tobs': 78.0}, {'station': 'USC00519281', 'date': '2016-09-29', 'tobs': 78.0}, {'station': 'USC00519281', 'date': '2016-09-30', 'tobs': 78.0}, {'station': 'USC00519281', 'date': '2016-10-01', 'tobs': 77.0}, {'station': 'USC00519281', 'date': '2016-10-02', 'tobs': 79.0}, {'station': 'USC00519281', 'date': '2016-10-03', 'tobs': 79.0}, {'station': 'USC00519281', 'date': '2016-10-04', 'tobs': 79.0}, {'station': 'USC00519281', 'date': '2016-10-05', 'tobs': 79.0}, {'station': 'USC00519281', 'date': '2016-10-06', 'tobs': 75.0}, {'station': 'USC00519281', 'date': '2016-10-07', 'tobs': 76.0}, {'station': 'USC00519281', 'date': '2016-10-08', 'tobs': 73.0}, {'station': 'USC00519281', 'date': '2016-10-09', 'tobs': 72.0}, {'station': 'USC00519281', 'date': '2016-10-10', 'tobs': 71.0}, {'station': 'USC00519281', 'date': '2016-10-11', 'tobs': 77.0}, {'station': 'USC00519281', 'date': '2016-10-12', 'tobs': 79.0}, {'station': 'USC00519281', 'date': '2016-10-13', 'tobs': 78.0}, {'station': 'USC00519281', 'date': '2016-10-14', 'tobs': 79.0}, {'station': 'USC00519281', 'date': '2016-10-15', 'tobs': 77.0}, {'station': 'USC00519281', 'date': '2016-10-16', 'tobs': 79.0}, {'station': 'USC00519281', 'date': '2016-10-17', 'tobs': 77.0}, {'station': 'USC00519281', 'date': '2016-10-18', 'tobs': 78.0}, {'station': 'USC00519281', 'date': '2016-10-19', 'tobs': 78.0}, {'station': 'USC00519281', 'date': '2016-10-20', 'tobs': 78.0}, {'station': 'USC00519281', 'date': '2016-10-21', 'tobs': 78.0}, {'station': 'USC00519281', 'date': '2016-10-22', 'tobs': 77.0}, {'station': 'USC00519281', 'date': '2016-10-23', 'tobs': 74.0}, {'station': 'USC00519281', 'date': '2016-10-24', 'tobs': 75.0}, {'station': 'USC00519281', 'date': '2016-10-25', 'tobs': 76.0}, {'station': 'USC00519281', 'date': '2016-10-26', 'tobs': 73.0}, {'station': 'USC00519281', 'date': '2016-10-27', 'tobs': 76.0}, {'station': 'USC00519281', 'date': '2016-10-28', 'tobs': 74.0}, {'station': 'USC00519281', 'date': '2016-10-29', 'tobs': 77.0}, {'station': 'USC00519281', 'date': '2016-10-30', 'tobs': 76.0}, {'station': 'USC00519281', 'date': '2016-10-31', 'tobs': 76.0}, {'station': 'USC00519281', 'date': '2016-11-01', 'tobs': 74.0}, {'station': 'USC00519281', 'date': '2016-11-02', 'tobs': 75.0}, {'station': 'USC00519281', 'date': '2016-11-03', 'tobs': 75.0}, {'station': 'USC00519281', 'date': '2016-11-04', 'tobs': 75.0}, {'station': 'USC00519281', 'date': '2016-11-05', 'tobs': 75.0}, {'station': 'USC00519281', 'date': '2016-11-06', 'tobs': 71.0}, {'station': 'USC00519281', 'date': '2016-11-07', 'tobs': 63.0}, {'station': 'USC00519281', 'date': '2016-11-08', 'tobs': 70.0}, {'station': 'USC00519281', 'date': '2016-11-09', 'tobs': 68.0}, {'station': 'USC00519281', 'date': '2016-11-10', 'tobs': 67.0}, {'station': 'USC00519281', 'date': '2016-11-11', 'tobs': 77.0}, {'station': 'USC00519281', 'date': '2016-11-12', 'tobs': 74.0}, {'station': 'USC00519281', 'date': '2016-11-13', 'tobs': 77.0}, {'station': 'USC00519281', 'date': '2016-11-14', 'tobs': 76.0}, {'station': 'USC00519281', 'date': '2016-11-15', 'tobs': 76.0}, {'station': 'USC00519281', 'date': '2016-11-16', 'tobs': 75.0}, {'station': 'USC00519281', 'date': '2016-11-17', 'tobs': 76.0}, {'station': 'USC00519281', 'date': '2016-11-18', 'tobs': 75.0}, {'station': 'USC00519281', 'date': '2016-11-19', 'tobs': 73.0}, {'station': 'USC00519281', 'date': '2016-11-20', 'tobs': 75.0}, {'station': 'USC00519281', 'date': '2016-11-21', 'tobs': 73.0}, {'station': 'USC00519281', 'date': '2016-11-22', 'tobs': 75.0}, {'station': 'USC00519281', 'date': '2016-11-23', 'tobs': 74.0}, {'station': 'USC00519281', 'date': '2016-11-24', 'tobs': 75.0}, {'station': 'USC00519281', 'date': '2016-11-25', 'tobs': 74.0}, {'station': 'USC00519281', 'date': '2016-11-26', 'tobs': 75.0}, {'station': 'USC00519281', 'date': '2016-11-27', 'tobs': 73.0}, {'station': 'USC00519281', 'date': '2016-11-28', 'tobs': 75.0}, {'station': 'USC00519281', 'date': '2016-11-29', 'tobs': 73.0}, {'station': 'USC00519281', 'date': '2016-11-30', 'tobs': 73.0}, {'station': 'USC00519281', 'date': '2016-12-01', 'tobs': 74.0}, {'station': 'USC00519281', 'date': '2016-12-02', 'tobs': 70.0}, {'station': 'USC00519281', 'date': '2016-12-03', 'tobs': 72.0}, {'station': 'USC00519281', 'date': '2016-12-04', 'tobs': 70.0}, {'station': 'USC00519281', 'date': '2016-12-05', 'tobs': 67.0}, {'station': 'USC00519281', 'date': '2016-12-06', 'tobs': 67.0}, {'station': 'USC00519281', 'date': '2016-12-07', 'tobs': 69.0}, {'station': 'USC00519281', 'date': '2016-12-08', 'tobs': 70.0}, {'station': 'USC00519281', 'date': '2016-12-09', 'tobs': 68.0}, {'station': 'USC00519281', 'date': '2016-12-10', 'tobs': 69.0}, {'station': 'USC00519281', 'date': '2016-12-11', 'tobs': 69.0}, {'station': 'USC00519281', 'date': '2016-12-12', 'tobs': 66.0}, {'station': 'USC00519281', 'date': '2016-12-13', 'tobs': 65.0}, {'station': 'USC00519281', 'date': '2016-12-14', 'tobs': 68.0}, {'station': 'USC00519281', 'date': '2016-12-15', 'tobs': 62.0}, {'station': 'USC00519281', 'date': '2016-12-16', 'tobs': 75.0}, {'station': 'USC00519281', 'date': '2016-12-17', 'tobs': 70.0}, {'station': 'USC00519281', 'date': '2016-12-18', 'tobs': 69.0}, {'station': 'USC00519281', 'date': '2016-12-19', 'tobs': 76.0}, {'station': 'USC00519281', 'date': '2016-12-20', 'tobs': 76.0}, {'station': 'USC00519281', 'date': '2016-12-21', 'tobs': 74.0}, {'station': 'USC00519281', 'date': '2016-12-22', 'tobs': 73.0}, {'station': 'USC00519281', 'date': '2016-12-23', 'tobs': 71.0}, {'station': 'USC00519281', 'date': '2016-12-24', 'tobs': 74.0}, {'station': 'USC00519281', 'date': '2016-12-25', 'tobs': 74.0}, {'station': 'USC00519281', 'date': '2016-12-26', 'tobs': 72.0}, {'station': 'USC00519281', 'date': '2016-12-27', 'tobs': 71.0}, {'station': 'USC00519281', 'date': '2016-12-28', 'tobs': 72.0}, {'station': 'USC00519281', 'date': '2016-12-29', 'tobs': 74.0}, {'station': 'USC00519281', 'date': '2016-12-30', 'tobs': 69.0}, {'station': 'USC00519281', 'date': '2016-12-31', 'tobs': 67.0}, {'station': 'USC00519281', 'date': '2017-01-01', 'tobs': 72.0}, {'station': 'USC00519281', 'date': '2017-01-02', 'tobs': 70.0}, {'station': 'USC00519281', 'date': '2017-01-03', 'tobs': 64.0}, {'station': 'USC00519281', 'date': '2017-01-04', 'tobs': 63.0}, {'station': 'USC00519281', 'date': '2017-01-05', 'tobs': 63.0}, {'station': 'USC00519281', 'date': '2017-01-06', 'tobs': 62.0}, {'station': 'USC00519281', 'date': '2017-01-07', 'tobs': 70.0}, {'station': 'USC00519281', 'date': '2017-01-08', 'tobs': 70.0}, {'station': 'USC00519281', 'date': '2017-01-09', 'tobs': 62.0}, {'station': 'USC00519281', 'date': '2017-01-10', 'tobs': 62.0}, {'station': 'USC00519281', 'date': '2017-01-11', 'tobs': 63.0}, {'station': 'USC00519281', 'date': '2017-01-12', 'tobs': 65.0}, {'station': 'USC00519281', 'date': '2017-01-13', 'tobs': 69.0}, {'station': 'USC00519281', 'date': '2017-01-14', 'tobs': 77.0}, {'station': 'USC00519281', 'date': '2017-01-15', 'tobs': 70.0}, {'station': 'USC00519281', 'date': '2017-01-16', 'tobs': 74.0}, {'station': 'USC00519281', 'date': '2017-01-17', 'tobs': 69.0}, {'station': 'USC00519281', 'date': '2017-01-18', 'tobs': 72.0}, {'station': 'USC00519281', 'date': '2017-01-19', 'tobs': 71.0}, {'station': 'USC00519281', 'date': '2017-01-20', 'tobs': 69.0}, {'station': 'USC00519281', 'date': '2017-01-21', 'tobs': 71.0}, {'station': 'USC00519281', 'date': '2017-01-22', 'tobs': 71.0}, {'station': 'USC00519281', 'date': '2017-01-23', 'tobs': 72.0}, {'station': 'USC00519281', 'date': '2017-01-24', 'tobs': 72.0}, {'station': 'USC00519281', 'date': '2017-01-25', 'tobs': 69.0}, {'station': 'USC00519281', 'date': '2017-01-26', 'tobs': 70.0}, {'station': 'USC00519281', 'date': '2017-01-27', 'tobs': 66.0}, {'station': 'USC00519281', 'date': '2017-01-28', 'tobs': 65.0}, {'station': 'USC00519281', 'date': '2017-01-29', 'tobs': 69.0}, {'station': 'USC00519281', 'date': '2017-01-30', 'tobs': 68.0}, {'station': 'USC00519281', 'date': '2017-01-31', 'tobs': 68.0}, {'station': 'USC00519281', 'date': '2017-02-01', 'tobs': 68.0}, {'station': 'USC00519281', 'date': '2017-02-02', 'tobs': 59.0}, {'station': 'USC00519281', 'date': '2017-02-03', 'tobs': 60.0}, {'station': 'USC00519281', 'date': '2017-02-04', 'tobs': 70.0}, {'station': 'USC00519281', 'date': '2017-02-05', 'tobs': 73.0}, {'station': 'USC00519281', 'date': '2017-02-06', 'tobs': 75.0}, {'station': 'USC00519281', 'date': '2017-02-07', 'tobs': 64.0}, {'station': 'USC00519281', 'date': '2017-02-08', 'tobs': 59.0}, {'station': 'USC00519281', 'date': '2017-02-09', 'tobs': 59.0}, {'station': 'USC00519281', 'date': '2017-02-10', 'tobs': 62.0}, {'station': 'USC00519281', 'date': '2017-02-11', 'tobs': 68.0}, {'station': 'USC00519281', 'date': '2017-02-12', 'tobs': 70.0}, {'station': 'USC00519281', 'date': '2017-02-13', 'tobs': 73.0}, {'station': 'USC00519281', 'date': '2017-02-14', 'tobs': 79.0}, {'station': 'USC00519281', 'date': '2017-02-15', 'tobs': 75.0}, {'station': 'USC00519281', 'date': '2017-02-16', 'tobs': 65.0}, {'station': 'USC00519281', 'date': '2017-02-17', 'tobs': 70.0}, {'station': 'USC00519281', 'date': '2017-02-18', 'tobs': 74.0}, {'station': 'USC00519281', 'date': '2017-02-19', 'tobs': 70.0}, {'station': 'USC00519281', 'date': '2017-02-20', 'tobs': 70.0}, {'station': 'USC00519281', 'date': '2017-02-21', 'tobs': 71.0}, {'station': 'USC00519281', 'date': '2017-02-22', 'tobs': 71.0}, {'station': 'USC00519281', 'date': '2017-02-23', 'tobs': 71.0}, {'station': 'USC00519281', 'date': '2017-02-24', 'tobs': 69.0}, {'station': 'USC00519281', 'date': '2017-02-25', 'tobs': 61.0}, {'station': 'USC00519281', 'date': '2017-02-26', 'tobs': 67.0}, {'station': 'USC00519281', 'date': '2017-02-27', 'tobs': 65.0}, {'station': 'USC00519281', 'date': '2017-02-28', 'tobs': 72.0}, {'station': 'USC00519281', 'date': '2017-03-01', 'tobs': 71.0}, {'station': 'USC00519281', 'date': '2017-03-02', 'tobs': 73.0}, {'station': 'USC00519281', 'date': '2017-03-03', 'tobs': 72.0}, {'station': 'USC00519281', 'date': '2017-03-04', 'tobs': 77.0}, {'station': 'USC00519281', 'date': '2017-03-05', 'tobs': 73.0}, {'station': 'USC00519281', 'date': '2017-03-06', 'tobs': 67.0}, {'station': 'USC00519281', 'date': '2017-03-07', 'tobs': 62.0}, {'station': 'USC00519281', 'date': '2017-03-08', 'tobs': 64.0}, {'station': 'USC00519281', 'date': '2017-03-09', 'tobs': 67.0}, {'station': 'USC00519281', 'date': '2017-03-10', 'tobs': 66.0}, {'station': 'USC00519281', 'date': '2017-03-11', 'tobs': 81.0}, {'station': 'USC00519281', 'date': '2017-03-12', 'tobs': 69.0}, {'station': 'USC00519281', 'date': '2017-03-13', 'tobs': 66.0}, {'station': 'USC00519281', 'date': '2017-03-14', 'tobs': 67.0}, {'station': 'USC00519281', 'date': '2017-03-15', 'tobs': 69.0}, {'station': 'USC00519281', 'date': '2017-03-16', 'tobs': 66.0}, {'station': 'USC00519281', 'date': '2017-03-17', 'tobs': 68.0}, {'station': 'USC00519281', 'date': '2017-03-18', 'tobs': 65.0}, {'station': 'USC00519281', 'date': '2017-03-19', 'tobs': 74.0}, {'station': 'USC00519281', 'date': '2017-03-20', 'tobs': 69.0}, {'station': 'USC00519281', 'date': '2017-03-21', 'tobs': 72.0}, {'station': 'USC00519281', 'date': '2017-03-22', 'tobs': 73.0}, {'station': 'USC00519281', 'date': '2017-03-23', 'tobs': 72.0}, {'station': 'USC00519281', 'date': '2017-03-24', 'tobs': 71.0}, {'station': 'USC00519281', 'date': '2017-03-25', 'tobs': 76.0}, {'station': 'USC00519281', 'date': '2017-03-26', 'tobs': 77.0}, {'station': 'USC00519281', 'date': '2017-03-27', 'tobs': 76.0}, {'station': 'USC00519281', 'date': '2017-03-28', 'tobs': 74.0}, {'station': 'USC00519281', 'date': '2017-03-29', 'tobs': 68.0}, {'station': 'USC00519281', 'date': '2017-03-30', 'tobs': 73.0}, {'station': 'USC00519281', 'date': '2017-03-31', 'tobs': 71.0}, {'station': 'USC00519281', 'date': '2017-04-01', 'tobs': 74.0}, {'station': 'USC00519281', 'date': '2017-04-02', 'tobs': 75.0}, {'station': 'USC00519281', 'date': '2017-04-03', 'tobs': 70.0}, {'station': 'USC00519281', 'date': '2017-04-04', 'tobs': 67.0}, {'station': 'USC00519281', 'date': '2017-04-05', 'tobs': 71.0}, {'station': 'USC00519281', 'date': '2017-04-06', 'tobs': 67.0}, {'station': 'USC00519281', 'date': '2017-04-07', 'tobs': 74.0}, {'station': 'USC00519281', 'date': '2017-04-08', 'tobs': 77.0}, {'station': 'USC00519281', 'date': '2017-04-09', 'tobs': 78.0}, {'station': 'USC00519281', 'date': '2017-04-10', 'tobs': 67.0}, {'station': 'USC00519281', 'date': '2017-04-11', 'tobs': 70.0}, {'station': 'USC00519281', 'date': '2017-04-12', 'tobs': 69.0}, {'station': 'USC00519281', 'date': '2017-04-13', 'tobs': 69.0}, {'station': 'USC00519281', 'date': '2017-04-14', 'tobs': 74.0}, {'station': 'USC00519281', 'date': '2017-04-15', 'tobs': 78.0}, {'station': 'USC00519281', 'date': '2017-04-16', 'tobs': 71.0}, {'station': 'USC00519281', 'date': '2017-04-17', 'tobs': 67.0}, {'station': 'USC00519281', 'date': '2017-04-18', 'tobs': 68.0}, {'station': 'USC00519281', 'date': '2017-04-19', 'tobs': 67.0}, {'station': 'USC00519281', 'date': '2017-04-20', 'tobs': 76.0}, {'station': 'USC00519281', 'date': '2017-04-21', 'tobs': 69.0}, {'station': 'USC00519281', 'date': '2017-04-22', 'tobs': 72.0}, {'station': 'USC00519281', 'date': '2017-04-23', 'tobs': 76.0}, {'station': 'USC00519281', 'date': '2017-04-24', 'tobs': 68.0}, {'station': 'USC00519281', 'date': '2017-04-25', 'tobs': 72.0}, {'station': 'USC00519281', 'date': '2017-04-26', 'tobs': 74.0}, {'station': 'USC00519281', 'date': '2017-04-27', 'tobs': 70.0}, {'station': 'USC00519281', 'date': '2017-04-28', 'tobs': 67.0}, {'station': 'USC00519281', 'date': '2017-04-29', 'tobs': 72.0}, {'station': 'USC00519281', 'date': '2017-04-30', 'tobs': 60.0}, {'station': 'USC00519281', 'date': '2017-05-01', 'tobs': 65.0}, {'station': 'USC00519281', 'date': '2017-05-02', 'tobs': 75.0}, {'station': 'USC00519281', 'date': '2017-05-03', 'tobs': 70.0}, {'station': 'USC00519281', 'date': '2017-05-04', 'tobs': 75.0}, {'station': 'USC00519281', 'date': '2017-05-05', 'tobs': 70.0}, {'station': 'USC00519281', 'date': '2017-05-06', 'tobs': 79.0}, {'station': 'USC00519281', 'date': '2017-05-07', 'tobs': 75.0}, {'station': 'USC00519281', 'date': '2017-05-08', 'tobs': 70.0}, {'station': 'USC00519281', 'date': '2017-05-09', 'tobs': 67.0}, {'station': 'USC00519281', 'date': '2017-05-10', 'tobs': 74.0}, {'station': 'USC00519281', 'date': '2017-05-11', 'tobs': 70.0}, {'station': 'USC00519281', 'date': '2017-05-12', 'tobs': 75.0}, {'station': 'USC00519281', 'date': '2017-05-13', 'tobs': 76.0}, {'station': 'USC00519281', 'date': '2017-05-14', 'tobs': 77.0}, {'station': 'USC00519281', 'date': '2017-05-15', 'tobs': 74.0}, {'station': 'USC00519281', 'date': '2017-05-16', 'tobs': 74.0}, {'station': 'USC00519281', 'date': '2017-05-17', 'tobs': 74.0}, {'station': 'USC00519281', 'date': '2017-05-18', 'tobs': 69.0}, {'station': 'USC00519281', 'date': '2017-05-19', 'tobs': 68.0}, {'station': 'USC00519281', 'date': '2017-05-20', 'tobs': 76.0}, {'station': 'USC00519281', 'date': '2017-05-21', 'tobs': 74.0}, {'station': 'USC00519281', 'date': '2017-05-22', 'tobs': 71.0}, {'station': 'USC00519281', 'date': '2017-05-23', 'tobs': 71.0}, {'station': 'USC00519281', 'date': '2017-05-24', 'tobs': 74.0}, {'station': 'USC00519281', 'date': '2017-05-25', 'tobs': 74.0}, {'station': 'USC00519281', 'date': '2017-05-26', 'tobs': 74.0}, {'station': 'USC00519281', 'date': '2017-05-27', 'tobs': 74.0}, {'station': 'USC00519281', 'date': '2017-05-28', 'tobs': 80.0}, {'station': 'USC00519281', 'date': '2017-05-29', 'tobs': 74.0}, {'station': 'USC00519281', 'date': '2017-05-30', 'tobs': 72.0}, {'station': 'USC00519281', 'date': '2017-05-31', 'tobs': 75.0}, {'station': 'USC00519281', 'date': '2017-06-01', 'tobs': 80.0}, {'station': 'USC00519281', 'date': '2017-06-02', 'tobs': 76.0}, {'station': 'USC00519281', 'date': '2017-06-03', 'tobs': 76.0}, {'station': 'USC00519281', 'date': '2017-06-04', 'tobs': 77.0}, {'station': 'USC00519281', 'date': '2017-06-05', 'tobs': 75.0}, {'station': 'USC00519281', 'date': '2017-06-06', 'tobs': 75.0}, {'station': 'USC00519281', 'date': '2017-06-07', 'tobs': 75.0}, {'station': 'USC00519281', 'date': '2017-06-08', 'tobs': 75.0}, {'station': 'USC00519281', 'date': '2017-06-09', 'tobs': 72.0}, {'station': 'USC00519281', 'date': '2017-06-10', 'tobs': 74.0}, {'station': 'USC00519281', 'date': '2017-06-11', 'tobs': 74.0}, {'station': 'USC00519281', 'date': '2017-06-12', 'tobs': 74.0}, {'station': 'USC00519281', 'date': '2017-06-13', 'tobs': 76.0}, {'station': 'USC00519281', 'date': '2017-06-14', 'tobs': 74.0}, {'station': 'USC00519281', 'date': '2017-06-15', 'tobs': 75.0}, {'station': 'USC00519281', 'date': '2017-06-16', 'tobs': 73.0}, {'station': 'USC00519281', 'date': '2017-06-17', 'tobs': 79.0}, {'station': 'USC00519281', 'date': '2017-06-18', 'tobs': 75.0}, {'station': 'USC00519281', 'date': '2017-06-19', 'tobs': 72.0}, {'station': 'USC00519281', 'date': '2017-06-20', 'tobs': 72.0}, {'station': 'USC00519281', 'date': '2017-06-21', 'tobs': 74.0}, {'station': 'USC00519281', 'date': '2017-06-22', 'tobs': 72.0}, {'station': 'USC00519281', 'date': '2017-06-23', 'tobs': 72.0}, {'station': 'USC00519281', 'date': '2017-06-24', 'tobs': 77.0}, {'station': 'USC00519281', 'date': '2017-06-25', 'tobs': 71.0}, {'station': 'USC00519281', 'date': '2017-06-26', 'tobs': 73.0}, {'station': 'USC00519281', 'date': '2017-06-27', 'tobs': 76.0}, {'station': 'USC00519281', 'date': '2017-06-28', 'tobs': 77.0}, {'station': 'USC00519281', 'date': '2017-06-29', 'tobs': 76.0}, {'station': 'USC00519281', 'date': '2017-06-30', 'tobs': 76.0}, {'station': 'USC00519281', 'date': '2017-07-01', 'tobs': 79.0}, {'station': 'USC00519281', 'date': '2017-07-02', 'tobs': 81.0}, {'station': 'USC00519281', 'date': '2017-07-03', 'tobs': 76.0}, {'station': 'USC00519281', 'date': '2017-07-04', 'tobs': 78.0}, {'station': 'USC00519281', 'date': '2017-07-05', 'tobs': 77.0}, {'station': 'USC00519281', 'date': '2017-07-06', 'tobs': 74.0}, {'station': 'USC00519281', 'date': '2017-07-07', 'tobs': 75.0}, {'station': 'USC00519281', 'date': '2017-07-08', 'tobs': 78.0}, {'station': 'USC00519281', 'date': '2017-07-09', 'tobs': 78.0}, {'station': 'USC00519281', 'date': '2017-07-10', 'tobs': 69.0}, {'station': 'USC00519281', 'date': '2017-07-11', 'tobs': 72.0}, {'station': 'USC00519281', 'date': '2017-07-12', 'tobs': 74.0}, {'station': 'USC00519281', 'date': '2017-07-13', 'tobs': 74.0}, {'station': 'USC00519281', 'date': '2017-07-14', 'tobs': 76.0}, {'station': 'USC00519281', 'date': '2017-07-15', 'tobs': 80.0}, {'station': 'USC00519281', 'date': '2017-07-16', 'tobs': 80.0}, {'station': 'USC00519281', 'date': '2017-07-17', 'tobs': 76.0}, {'station': 'USC00519281', 'date': '2017-07-18', 'tobs': 76.0}, {'station': 'USC00519281', 'date': '2017-07-19', 'tobs': 76.0}, {'station': 'USC00519281', 'date': '2017-07-20', 'tobs': 77.0}, {'station': 'USC00519281', 'date': '2017-07-21', 'tobs': 77.0}, {'station': 'USC00519281', 'date': '2017-07-22', 'tobs': 77.0}, {'station': 'USC00519281', 'date': '2017-07-23', 'tobs': 82.0}, {'station': 'USC00519281', 'date': '2017-07-24', 'tobs': 75.0}, {'station': 'USC00519281', 'date': '2017-07-25', 'tobs': 77.0}, {'station': 'USC00519281', 'date': '2017-07-26', 'tobs': 75.0}, {'station': 'USC00519281', 'date': '2017-07-27', 'tobs': 76.0}, {'station': 'USC00519281', 'date': '2017-07-28', 'tobs': 81.0}, {'station': 'USC00519281', 'date': '2017-07-29', 'tobs': 82.0}, {'station': 'USC00519281', 'date': '2017-07-30', 'tobs': 81.0}, {'station': 'USC00519281', 'date': '2017-07-31', 'tobs': 76.0}, {'station': 'USC00519281', 'date': '2017-08-04', 'tobs': 77.0}, {'station': 'USC00519281', 'date': '2017-08-05', 'tobs': 82.0}, {'station': 'USC00519281', 'date': '2017-08-06', 'tobs': 83.0}, {'station': 'USC00519281', 'date': '2017-08-13', 'tobs': 77.0}, {'station': 'USC00519281', 'date': '2017-08-14', 'tobs': 77.0}, {'station': 'USC00519281', 'date': '2017-08-15', 'tobs': 77.0}, {'station': 'USC00519281', 'date': '2017-08-16', 'tobs': 76.0}, {'station': 'USC00519281', 'date': '2017-08-17', 'tobs': 76.0}, {'station': 'USC00519281', 'date': '2017-08-18', 'tobs': 79.0}]\n"
     ]
    }
   ],
   "source": [
    "station_tob = []\n",
    "\n",
    "for result in temp_info:\n",
    "    row = {}\n",
    "    row[\"station\"] = result[0]\n",
    "    row[\"date\"] = result[1]\n",
    "    row[\"tobs\"] = result[2]\n",
    "    station_tob.append(row)\n",
    "    \n",
    "print(station_tob)"
   ]
  },
  {
   "cell_type": "code",
   "execution_count": 44,
   "metadata": {},
   "outputs": [
    {
     "data": {
      "text/plain": [
       "'USC00519281'"
      ]
     },
     "execution_count": 44,
     "metadata": {},
     "output_type": "execute_result"
    }
   ],
   "source": [
    "# Using the most active station id from the previous query, calculate the lowest, highest, and average temperature.\n",
    "active_station_id = stations[0][0]\n",
    "active_station_id"
   ]
  },
  {
   "cell_type": "code",
   "execution_count": 45,
   "metadata": {},
   "outputs": [
    {
     "data": {
      "text/plain": [
       "[(54.0, 85.0, 71.66378066378067)]"
      ]
     },
     "execution_count": 45,
     "metadata": {},
     "output_type": "execute_result"
    }
   ],
   "source": [
    "#calculate the lowest, highest, and average temperature\n",
    "active_station_temp = session.query(func.min(measurement.tobs), func.max(measurement.tobs), func.avg(measurement.tobs)).\\\n",
    "    filter (active_station_id == measurement.station).all()\n",
    "\n",
    "active_station_temp"
   ]
  },
  {
   "cell_type": "code",
   "execution_count": 23,
   "metadata": {},
   "outputs": [
    {
     "data": {
      "text/plain": [
       "[('USC00519281', '2016-08-23', 77.0),\n",
       " ('USC00519281', '2016-08-24', 77.0),\n",
       " ('USC00519281', '2016-08-25', 80.0),\n",
       " ('USC00519281', '2016-08-26', 80.0),\n",
       " ('USC00519281', '2016-08-27', 75.0),\n",
       " ('USC00519281', '2016-08-28', 73.0),\n",
       " ('USC00519281', '2016-08-29', 78.0),\n",
       " ('USC00519281', '2016-08-30', 77.0),\n",
       " ('USC00519281', '2016-08-31', 78.0),\n",
       " ('USC00519281', '2016-09-01', 80.0),\n",
       " ('USC00519281', '2016-09-02', 80.0),\n",
       " ('USC00519281', '2016-09-03', 78.0),\n",
       " ('USC00519281', '2016-09-04', 78.0),\n",
       " ('USC00519281', '2016-09-05', 78.0),\n",
       " ('USC00519281', '2016-09-06', 73.0),\n",
       " ('USC00519281', '2016-09-07', 74.0),\n",
       " ('USC00519281', '2016-09-08', 80.0),\n",
       " ('USC00519281', '2016-09-09', 79.0),\n",
       " ('USC00519281', '2016-09-10', 77.0),\n",
       " ('USC00519281', '2016-09-11', 80.0),\n",
       " ('USC00519281', '2016-09-12', 76.0),\n",
       " ('USC00519281', '2016-09-13', 79.0),\n",
       " ('USC00519281', '2016-09-14', 75.0),\n",
       " ('USC00519281', '2016-09-15', 79.0),\n",
       " ('USC00519281', '2016-09-16', 78.0),\n",
       " ('USC00519281', '2016-09-17', 79.0),\n",
       " ('USC00519281', '2016-09-18', 78.0),\n",
       " ('USC00519281', '2016-09-19', 78.0),\n",
       " ('USC00519281', '2016-09-20', 76.0),\n",
       " ('USC00519281', '2016-09-21', 74.0),\n",
       " ('USC00519281', '2016-09-22', 77.0),\n",
       " ('USC00519281', '2016-09-23', 78.0),\n",
       " ('USC00519281', '2016-09-24', 79.0),\n",
       " ('USC00519281', '2016-09-25', 79.0),\n",
       " ('USC00519281', '2016-09-26', 77.0),\n",
       " ('USC00519281', '2016-09-27', 80.0),\n",
       " ('USC00519281', '2016-09-28', 78.0),\n",
       " ('USC00519281', '2016-09-29', 78.0),\n",
       " ('USC00519281', '2016-09-30', 78.0),\n",
       " ('USC00519281', '2016-10-01', 77.0),\n",
       " ('USC00519281', '2016-10-02', 79.0),\n",
       " ('USC00519281', '2016-10-03', 79.0),\n",
       " ('USC00519281', '2016-10-04', 79.0),\n",
       " ('USC00519281', '2016-10-05', 79.0),\n",
       " ('USC00519281', '2016-10-06', 75.0),\n",
       " ('USC00519281', '2016-10-07', 76.0),\n",
       " ('USC00519281', '2016-10-08', 73.0),\n",
       " ('USC00519281', '2016-10-09', 72.0),\n",
       " ('USC00519281', '2016-10-10', 71.0),\n",
       " ('USC00519281', '2016-10-11', 77.0),\n",
       " ('USC00519281', '2016-10-12', 79.0),\n",
       " ('USC00519281', '2016-10-13', 78.0),\n",
       " ('USC00519281', '2016-10-14', 79.0),\n",
       " ('USC00519281', '2016-10-15', 77.0),\n",
       " ('USC00519281', '2016-10-16', 79.0),\n",
       " ('USC00519281', '2016-10-17', 77.0),\n",
       " ('USC00519281', '2016-10-18', 78.0),\n",
       " ('USC00519281', '2016-10-19', 78.0),\n",
       " ('USC00519281', '2016-10-20', 78.0),\n",
       " ('USC00519281', '2016-10-21', 78.0),\n",
       " ('USC00519281', '2016-10-22', 77.0),\n",
       " ('USC00519281', '2016-10-23', 74.0),\n",
       " ('USC00519281', '2016-10-24', 75.0),\n",
       " ('USC00519281', '2016-10-25', 76.0),\n",
       " ('USC00519281', '2016-10-26', 73.0),\n",
       " ('USC00519281', '2016-10-27', 76.0),\n",
       " ('USC00519281', '2016-10-28', 74.0),\n",
       " ('USC00519281', '2016-10-29', 77.0),\n",
       " ('USC00519281', '2016-10-30', 76.0),\n",
       " ('USC00519281', '2016-10-31', 76.0),\n",
       " ('USC00519281', '2016-11-01', 74.0),\n",
       " ('USC00519281', '2016-11-02', 75.0),\n",
       " ('USC00519281', '2016-11-03', 75.0),\n",
       " ('USC00519281', '2016-11-04', 75.0),\n",
       " ('USC00519281', '2016-11-05', 75.0),\n",
       " ('USC00519281', '2016-11-06', 71.0),\n",
       " ('USC00519281', '2016-11-07', 63.0),\n",
       " ('USC00519281', '2016-11-08', 70.0),\n",
       " ('USC00519281', '2016-11-09', 68.0),\n",
       " ('USC00519281', '2016-11-10', 67.0),\n",
       " ('USC00519281', '2016-11-11', 77.0),\n",
       " ('USC00519281', '2016-11-12', 74.0),\n",
       " ('USC00519281', '2016-11-13', 77.0),\n",
       " ('USC00519281', '2016-11-14', 76.0),\n",
       " ('USC00519281', '2016-11-15', 76.0),\n",
       " ('USC00519281', '2016-11-16', 75.0),\n",
       " ('USC00519281', '2016-11-17', 76.0),\n",
       " ('USC00519281', '2016-11-18', 75.0),\n",
       " ('USC00519281', '2016-11-19', 73.0),\n",
       " ('USC00519281', '2016-11-20', 75.0),\n",
       " ('USC00519281', '2016-11-21', 73.0),\n",
       " ('USC00519281', '2016-11-22', 75.0),\n",
       " ('USC00519281', '2016-11-23', 74.0),\n",
       " ('USC00519281', '2016-11-24', 75.0),\n",
       " ('USC00519281', '2016-11-25', 74.0),\n",
       " ('USC00519281', '2016-11-26', 75.0),\n",
       " ('USC00519281', '2016-11-27', 73.0),\n",
       " ('USC00519281', '2016-11-28', 75.0),\n",
       " ('USC00519281', '2016-11-29', 73.0),\n",
       " ('USC00519281', '2016-11-30', 73.0),\n",
       " ('USC00519281', '2016-12-01', 74.0),\n",
       " ('USC00519281', '2016-12-02', 70.0),\n",
       " ('USC00519281', '2016-12-03', 72.0),\n",
       " ('USC00519281', '2016-12-04', 70.0),\n",
       " ('USC00519281', '2016-12-05', 67.0),\n",
       " ('USC00519281', '2016-12-06', 67.0),\n",
       " ('USC00519281', '2016-12-07', 69.0),\n",
       " ('USC00519281', '2016-12-08', 70.0),\n",
       " ('USC00519281', '2016-12-09', 68.0),\n",
       " ('USC00519281', '2016-12-10', 69.0),\n",
       " ('USC00519281', '2016-12-11', 69.0),\n",
       " ('USC00519281', '2016-12-12', 66.0),\n",
       " ('USC00519281', '2016-12-13', 65.0),\n",
       " ('USC00519281', '2016-12-14', 68.0),\n",
       " ('USC00519281', '2016-12-15', 62.0),\n",
       " ('USC00519281', '2016-12-16', 75.0),\n",
       " ('USC00519281', '2016-12-17', 70.0),\n",
       " ('USC00519281', '2016-12-18', 69.0),\n",
       " ('USC00519281', '2016-12-19', 76.0),\n",
       " ('USC00519281', '2016-12-20', 76.0),\n",
       " ('USC00519281', '2016-12-21', 74.0),\n",
       " ('USC00519281', '2016-12-22', 73.0),\n",
       " ('USC00519281', '2016-12-23', 71.0),\n",
       " ('USC00519281', '2016-12-24', 74.0),\n",
       " ('USC00519281', '2016-12-25', 74.0),\n",
       " ('USC00519281', '2016-12-26', 72.0),\n",
       " ('USC00519281', '2016-12-27', 71.0),\n",
       " ('USC00519281', '2016-12-28', 72.0),\n",
       " ('USC00519281', '2016-12-29', 74.0),\n",
       " ('USC00519281', '2016-12-30', 69.0),\n",
       " ('USC00519281', '2016-12-31', 67.0),\n",
       " ('USC00519281', '2017-01-01', 72.0),\n",
       " ('USC00519281', '2017-01-02', 70.0),\n",
       " ('USC00519281', '2017-01-03', 64.0),\n",
       " ('USC00519281', '2017-01-04', 63.0),\n",
       " ('USC00519281', '2017-01-05', 63.0),\n",
       " ('USC00519281', '2017-01-06', 62.0),\n",
       " ('USC00519281', '2017-01-07', 70.0),\n",
       " ('USC00519281', '2017-01-08', 70.0),\n",
       " ('USC00519281', '2017-01-09', 62.0),\n",
       " ('USC00519281', '2017-01-10', 62.0),\n",
       " ('USC00519281', '2017-01-11', 63.0),\n",
       " ('USC00519281', '2017-01-12', 65.0),\n",
       " ('USC00519281', '2017-01-13', 69.0),\n",
       " ('USC00519281', '2017-01-14', 77.0),\n",
       " ('USC00519281', '2017-01-15', 70.0),\n",
       " ('USC00519281', '2017-01-16', 74.0),\n",
       " ('USC00519281', '2017-01-17', 69.0),\n",
       " ('USC00519281', '2017-01-18', 72.0),\n",
       " ('USC00519281', '2017-01-19', 71.0),\n",
       " ('USC00519281', '2017-01-20', 69.0),\n",
       " ('USC00519281', '2017-01-21', 71.0),\n",
       " ('USC00519281', '2017-01-22', 71.0),\n",
       " ('USC00519281', '2017-01-23', 72.0),\n",
       " ('USC00519281', '2017-01-24', 72.0),\n",
       " ('USC00519281', '2017-01-25', 69.0),\n",
       " ('USC00519281', '2017-01-26', 70.0),\n",
       " ('USC00519281', '2017-01-27', 66.0),\n",
       " ('USC00519281', '2017-01-28', 65.0),\n",
       " ('USC00519281', '2017-01-29', 69.0),\n",
       " ('USC00519281', '2017-01-30', 68.0),\n",
       " ('USC00519281', '2017-01-31', 68.0),\n",
       " ('USC00519281', '2017-02-01', 68.0),\n",
       " ('USC00519281', '2017-02-02', 59.0),\n",
       " ('USC00519281', '2017-02-03', 60.0),\n",
       " ('USC00519281', '2017-02-04', 70.0),\n",
       " ('USC00519281', '2017-02-05', 73.0),\n",
       " ('USC00519281', '2017-02-06', 75.0),\n",
       " ('USC00519281', '2017-02-07', 64.0),\n",
       " ('USC00519281', '2017-02-08', 59.0),\n",
       " ('USC00519281', '2017-02-09', 59.0),\n",
       " ('USC00519281', '2017-02-10', 62.0),\n",
       " ('USC00519281', '2017-02-11', 68.0),\n",
       " ('USC00519281', '2017-02-12', 70.0),\n",
       " ('USC00519281', '2017-02-13', 73.0),\n",
       " ('USC00519281', '2017-02-14', 79.0),\n",
       " ('USC00519281', '2017-02-15', 75.0),\n",
       " ('USC00519281', '2017-02-16', 65.0),\n",
       " ('USC00519281', '2017-02-17', 70.0),\n",
       " ('USC00519281', '2017-02-18', 74.0),\n",
       " ('USC00519281', '2017-02-19', 70.0),\n",
       " ('USC00519281', '2017-02-20', 70.0),\n",
       " ('USC00519281', '2017-02-21', 71.0),\n",
       " ('USC00519281', '2017-02-22', 71.0),\n",
       " ('USC00519281', '2017-02-23', 71.0),\n",
       " ('USC00519281', '2017-02-24', 69.0),\n",
       " ('USC00519281', '2017-02-25', 61.0),\n",
       " ('USC00519281', '2017-02-26', 67.0),\n",
       " ('USC00519281', '2017-02-27', 65.0),\n",
       " ('USC00519281', '2017-02-28', 72.0),\n",
       " ('USC00519281', '2017-03-01', 71.0),\n",
       " ('USC00519281', '2017-03-02', 73.0),\n",
       " ('USC00519281', '2017-03-03', 72.0),\n",
       " ('USC00519281', '2017-03-04', 77.0),\n",
       " ('USC00519281', '2017-03-05', 73.0),\n",
       " ('USC00519281', '2017-03-06', 67.0),\n",
       " ('USC00519281', '2017-03-07', 62.0),\n",
       " ('USC00519281', '2017-03-08', 64.0),\n",
       " ('USC00519281', '2017-03-09', 67.0),\n",
       " ('USC00519281', '2017-03-10', 66.0),\n",
       " ('USC00519281', '2017-03-11', 81.0),\n",
       " ('USC00519281', '2017-03-12', 69.0),\n",
       " ('USC00519281', '2017-03-13', 66.0),\n",
       " ('USC00519281', '2017-03-14', 67.0),\n",
       " ('USC00519281', '2017-03-15', 69.0),\n",
       " ('USC00519281', '2017-03-16', 66.0),\n",
       " ('USC00519281', '2017-03-17', 68.0),\n",
       " ('USC00519281', '2017-03-18', 65.0),\n",
       " ('USC00519281', '2017-03-19', 74.0),\n",
       " ('USC00519281', '2017-03-20', 69.0),\n",
       " ('USC00519281', '2017-03-21', 72.0),\n",
       " ('USC00519281', '2017-03-22', 73.0),\n",
       " ('USC00519281', '2017-03-23', 72.0),\n",
       " ('USC00519281', '2017-03-24', 71.0),\n",
       " ('USC00519281', '2017-03-25', 76.0),\n",
       " ('USC00519281', '2017-03-26', 77.0),\n",
       " ('USC00519281', '2017-03-27', 76.0),\n",
       " ('USC00519281', '2017-03-28', 74.0),\n",
       " ('USC00519281', '2017-03-29', 68.0),\n",
       " ('USC00519281', '2017-03-30', 73.0),\n",
       " ('USC00519281', '2017-03-31', 71.0),\n",
       " ('USC00519281', '2017-04-01', 74.0),\n",
       " ('USC00519281', '2017-04-02', 75.0),\n",
       " ('USC00519281', '2017-04-03', 70.0),\n",
       " ('USC00519281', '2017-04-04', 67.0),\n",
       " ('USC00519281', '2017-04-05', 71.0),\n",
       " ('USC00519281', '2017-04-06', 67.0),\n",
       " ('USC00519281', '2017-04-07', 74.0),\n",
       " ('USC00519281', '2017-04-08', 77.0),\n",
       " ('USC00519281', '2017-04-09', 78.0),\n",
       " ('USC00519281', '2017-04-10', 67.0),\n",
       " ('USC00519281', '2017-04-11', 70.0),\n",
       " ('USC00519281', '2017-04-12', 69.0),\n",
       " ('USC00519281', '2017-04-13', 69.0),\n",
       " ('USC00519281', '2017-04-14', 74.0),\n",
       " ('USC00519281', '2017-04-15', 78.0),\n",
       " ('USC00519281', '2017-04-16', 71.0),\n",
       " ('USC00519281', '2017-04-17', 67.0),\n",
       " ('USC00519281', '2017-04-18', 68.0),\n",
       " ('USC00519281', '2017-04-19', 67.0),\n",
       " ('USC00519281', '2017-04-20', 76.0),\n",
       " ('USC00519281', '2017-04-21', 69.0),\n",
       " ('USC00519281', '2017-04-22', 72.0),\n",
       " ('USC00519281', '2017-04-23', 76.0),\n",
       " ('USC00519281', '2017-04-24', 68.0),\n",
       " ('USC00519281', '2017-04-25', 72.0),\n",
       " ('USC00519281', '2017-04-26', 74.0),\n",
       " ('USC00519281', '2017-04-27', 70.0),\n",
       " ('USC00519281', '2017-04-28', 67.0),\n",
       " ('USC00519281', '2017-04-29', 72.0),\n",
       " ('USC00519281', '2017-04-30', 60.0),\n",
       " ('USC00519281', '2017-05-01', 65.0),\n",
       " ('USC00519281', '2017-05-02', 75.0),\n",
       " ('USC00519281', '2017-05-03', 70.0),\n",
       " ('USC00519281', '2017-05-04', 75.0),\n",
       " ('USC00519281', '2017-05-05', 70.0),\n",
       " ('USC00519281', '2017-05-06', 79.0),\n",
       " ('USC00519281', '2017-05-07', 75.0),\n",
       " ('USC00519281', '2017-05-08', 70.0),\n",
       " ('USC00519281', '2017-05-09', 67.0),\n",
       " ('USC00519281', '2017-05-10', 74.0),\n",
       " ('USC00519281', '2017-05-11', 70.0),\n",
       " ('USC00519281', '2017-05-12', 75.0),\n",
       " ('USC00519281', '2017-05-13', 76.0),\n",
       " ('USC00519281', '2017-05-14', 77.0),\n",
       " ('USC00519281', '2017-05-15', 74.0),\n",
       " ('USC00519281', '2017-05-16', 74.0),\n",
       " ('USC00519281', '2017-05-17', 74.0),\n",
       " ('USC00519281', '2017-05-18', 69.0),\n",
       " ('USC00519281', '2017-05-19', 68.0),\n",
       " ('USC00519281', '2017-05-20', 76.0),\n",
       " ('USC00519281', '2017-05-21', 74.0),\n",
       " ('USC00519281', '2017-05-22', 71.0),\n",
       " ('USC00519281', '2017-05-23', 71.0),\n",
       " ('USC00519281', '2017-05-24', 74.0),\n",
       " ('USC00519281', '2017-05-25', 74.0),\n",
       " ('USC00519281', '2017-05-26', 74.0),\n",
       " ('USC00519281', '2017-05-27', 74.0),\n",
       " ('USC00519281', '2017-05-28', 80.0),\n",
       " ('USC00519281', '2017-05-29', 74.0),\n",
       " ('USC00519281', '2017-05-30', 72.0),\n",
       " ('USC00519281', '2017-05-31', 75.0),\n",
       " ('USC00519281', '2017-06-01', 80.0),\n",
       " ('USC00519281', '2017-06-02', 76.0),\n",
       " ('USC00519281', '2017-06-03', 76.0),\n",
       " ('USC00519281', '2017-06-04', 77.0),\n",
       " ('USC00519281', '2017-06-05', 75.0),\n",
       " ('USC00519281', '2017-06-06', 75.0),\n",
       " ('USC00519281', '2017-06-07', 75.0),\n",
       " ('USC00519281', '2017-06-08', 75.0),\n",
       " ('USC00519281', '2017-06-09', 72.0),\n",
       " ('USC00519281', '2017-06-10', 74.0),\n",
       " ('USC00519281', '2017-06-11', 74.0),\n",
       " ('USC00519281', '2017-06-12', 74.0),\n",
       " ('USC00519281', '2017-06-13', 76.0),\n",
       " ('USC00519281', '2017-06-14', 74.0),\n",
       " ('USC00519281', '2017-06-15', 75.0),\n",
       " ('USC00519281', '2017-06-16', 73.0),\n",
       " ('USC00519281', '2017-06-17', 79.0),\n",
       " ('USC00519281', '2017-06-18', 75.0),\n",
       " ('USC00519281', '2017-06-19', 72.0),\n",
       " ('USC00519281', '2017-06-20', 72.0),\n",
       " ('USC00519281', '2017-06-21', 74.0),\n",
       " ('USC00519281', '2017-06-22', 72.0),\n",
       " ('USC00519281', '2017-06-23', 72.0),\n",
       " ('USC00519281', '2017-06-24', 77.0),\n",
       " ('USC00519281', '2017-06-25', 71.0),\n",
       " ('USC00519281', '2017-06-26', 73.0),\n",
       " ('USC00519281', '2017-06-27', 76.0),\n",
       " ('USC00519281', '2017-06-28', 77.0),\n",
       " ('USC00519281', '2017-06-29', 76.0),\n",
       " ('USC00519281', '2017-06-30', 76.0),\n",
       " ('USC00519281', '2017-07-01', 79.0),\n",
       " ('USC00519281', '2017-07-02', 81.0),\n",
       " ('USC00519281', '2017-07-03', 76.0),\n",
       " ('USC00519281', '2017-07-04', 78.0),\n",
       " ('USC00519281', '2017-07-05', 77.0),\n",
       " ('USC00519281', '2017-07-06', 74.0),\n",
       " ('USC00519281', '2017-07-07', 75.0),\n",
       " ('USC00519281', '2017-07-08', 78.0),\n",
       " ('USC00519281', '2017-07-09', 78.0),\n",
       " ('USC00519281', '2017-07-10', 69.0),\n",
       " ('USC00519281', '2017-07-11', 72.0),\n",
       " ('USC00519281', '2017-07-12', 74.0),\n",
       " ('USC00519281', '2017-07-13', 74.0),\n",
       " ('USC00519281', '2017-07-14', 76.0),\n",
       " ('USC00519281', '2017-07-15', 80.0),\n",
       " ('USC00519281', '2017-07-16', 80.0),\n",
       " ('USC00519281', '2017-07-17', 76.0),\n",
       " ('USC00519281', '2017-07-18', 76.0),\n",
       " ('USC00519281', '2017-07-19', 76.0),\n",
       " ('USC00519281', '2017-07-20', 77.0),\n",
       " ('USC00519281', '2017-07-21', 77.0),\n",
       " ('USC00519281', '2017-07-22', 77.0),\n",
       " ('USC00519281', '2017-07-23', 82.0),\n",
       " ('USC00519281', '2017-07-24', 75.0),\n",
       " ('USC00519281', '2017-07-25', 77.0),\n",
       " ('USC00519281', '2017-07-26', 75.0),\n",
       " ('USC00519281', '2017-07-27', 76.0),\n",
       " ('USC00519281', '2017-07-28', 81.0),\n",
       " ('USC00519281', '2017-07-29', 82.0),\n",
       " ('USC00519281', '2017-07-30', 81.0),\n",
       " ('USC00519281', '2017-07-31', 76.0),\n",
       " ('USC00519281', '2017-08-04', 77.0),\n",
       " ('USC00519281', '2017-08-05', 82.0),\n",
       " ('USC00519281', '2017-08-06', 83.0),\n",
       " ('USC00519281', '2017-08-13', 77.0),\n",
       " ('USC00519281', '2017-08-14', 77.0),\n",
       " ('USC00519281', '2017-08-15', 77.0),\n",
       " ('USC00519281', '2017-08-16', 76.0),\n",
       " ('USC00519281', '2017-08-17', 76.0),\n",
       " ('USC00519281', '2017-08-18', 79.0)]"
      ]
     },
     "execution_count": 23,
     "metadata": {},
     "output_type": "execute_result"
    }
   ],
   "source": [
    "# Using the most active station id\n",
    "# Query the last 12 months of temperature observation data for this station \n",
    "temp_info = session.query(measurement.station, measurement.date, measurement.tobs).\\\n",
    "    filter(measurement.station == active_station_id).\\\n",
    "    filter(measurement.date >= end_date).\\\n",
    "    order_by(measurement.date.asc()).all()\n",
    "temp_info"
   ]
  },
  {
   "cell_type": "code",
   "execution_count": 24,
   "metadata": {},
   "outputs": [
    {
     "data": {
      "text/plain": [
       "<AxesSubplot:ylabel='Frequency'>"
      ]
     },
     "execution_count": 24,
     "metadata": {},
     "output_type": "execute_result"
    },
    {
     "data": {
      "image/png": "[encoded data removed]",
      "text/plain": [
       "<Figure size 432x288 with 1 Axes>"
      ]
     },
     "metadata": {},
     "output_type": "display_data"
    }
   ],
   "source": [
    "# plot the results as a histogram\n",
    "\n",
    "#temp dataframe\n",
    "tobs_df = pd.DataFrame(temp_info, columns=['Station', 'Date', 'Tobs'])\n",
    "tobs_df.set_index('Station', inplace=True, )\n",
    "tobs_order = tobs_df.sort_values(by='Station', ascending=True)\n",
    "\n",
    "tobs_order.plot.hist(by=None, bins=10)\n"
   ]
  },
  {
   "cell_type": "markdown",
   "metadata": {},
   "source": [
    "# Close session"
   ]
  },
  {
   "cell_type": "code",
   "execution_count": 25,
   "metadata": {},
   "outputs": [],
   "source": [
    "# Close Session\n",
    "session.close()"
   ]
  },
  {
   "cell_type": "code",
   "execution_count": null,
   "metadata": {},
   "outputs": [],
   "source": []
  },
  {
   "cell_type": "code",
   "execution_count": null,
   "metadata": {},
   "outputs": [],
   "source": []
  }
 ],
 "metadata": {
  "anaconda-cloud": {},
  "kernel_info": {
   "name": "python3"
  },
  "kernelspec": {
   "display_name": "Python 3",
   "language": "python",
   "name": "python3"
  },
  "language_info": {
   "codemirror_mode": {
    "name": "ipython",
    "version": 3
   },
   "file_extension": ".py",
   "mimetype": "text/x-python",
   "name": "python",
   "nbconvert_exporter": "python",
   "pygments_lexer": "ipython3",
   "version": "3.8.8"
  },
  "nteract": {
   "version": "0.12.3"
  },
  "varInspector": {
   "cols": {
    "lenName": 16,
    "lenType": 16,
    "lenVar": 40
   },
   "kernels_config": {
    "python": {
     "delete_cmd_postfix": "",
     "delete_cmd_prefix": "del ",
     "library": "var_list.py",
     "varRefreshCmd": "print(var_dic_list())"
    },
    "r": {
     "delete_cmd_postfix": ") ",
     "delete_cmd_prefix": "rm(",
     "library": "var_list.r",
     "varRefreshCmd": "cat(var_dic_list()) "
    }
   },
   "types_to_exclude": [
    "module",
    "function",
    "builtin_function_or_method",
    "instance",
    "_Feature"
   ],
   "window_display": false
  }
 },
 "nbformat": 4,
 "nbformat_minor": 2
}
